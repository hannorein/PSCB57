{
 "cells": [
  {
   "cell_type": "markdown",
   "metadata": {},
   "source": [
    "# Assignment 1\n",
    "PSCB57H - Scientific Computing - Fall 2017\n",
    "\n",
    "In this assignment, you will use python and Jupyter notebooks to answer questions about floating point numbers. Please do not use any packages in the assignment.\n",
    "\n",
    "Once you're done, submit the `ipynb` file via portal. The deadline is Friday September 22nd, 6pm."
   ]
 
  {
   "cell_type": "markdown",
   "metadata": {},
   "source": [
    "## Part 1\n",
    "Insert a cell below this one. Make it a markdown cell and write in your name and student number."
 Student name: Shenghao Li
Student Number: 1000618548   ]
  },
  {
   "cell_type": "markdown",
   "metadata": {},
   "source": [
    "## Part 2\n",
    "With two different examples, show that adding two floating point numbers together do often not give you the result you expect from a simple mathematics point of view. For each example, add one code cell below."
  print ("%0.32f"%(0.3)) print ("%0.32f"%(0.4))print ("%0.32f"%(0.3+0.4))print ("%0.32f"%(0.3))print ("%0.32f"%(0.6))print ("%0.32f"%(0.3+0.6))]
  },
  {
   "cell_type": "markdown",
   "metadata": {},
   "source": [
    "## Part 3\n",
    "We start with the floating point number `x=3.14`. Write a short program that uses a loop to increase the floating point number until it runs out of bounds. Print out `x` at the end. Complete the following cell. "
  y = 3.14
for x in range(200):
    y = y *35
    print (x, y)]
  },
  {
   "cell_type": "code",
   "execution_count": null,
   "metadata": {},
   "outputs": [],
   "source": [
    "x = 3.14\n",
    "for ...."
   ]
  },
  {
   "cell_type": "markdown",
   "metadata": {},
   "source": [
    "## Part 4 \n",
    "Come up with an example that shows that the precision of floating point operations can decrease significantly when one substracts two large, almost equal floating point numbers from each other. Create as many cells as you need below."
   print (1010101010101010101010101010106 - 1010101010101010101010101010105.9998765 )print (123456789 - 123456789.987654321)print (123456789 -123456788.98765432) ]
  }
 ],
 "metadata": {
  "kernelspec": {
   "display_name": "Python 3",
   "language": "python",
   "name": "python3"
  },
  "language_info": {
   "codemirror_mode": {
    "name": "ipython",
    "version": 3
   },
   "file_extension": ".py",
   "mimetype": "text/x-python",
   "name": "python",
   "nbconvert_exporter": "python",
   "pygments_lexer": "ipython3",
   "version": "3.5.2"
  }
 },
 "nbformat": 4,
 "nbformat_minor": 2
}
