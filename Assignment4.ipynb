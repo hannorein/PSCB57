{
 "cells": [
  {
   "cell_type": "markdown",
   "metadata": {},
   "source": [
    "# Assignment 4\n",
    "PSCB57H - Scientific Computing - Fall 2017\n",
    "\n",
    "In this assignment, you will implement a the Euler and midpoint methods to solve a second order ordinary differential equation. \n",
    "\n",
    "For this assignment, you should not use any external packages other than `math`.\n",
    "\n",
    "Once you're done, submit the `ipynb` file via portal. The deadline is Friday November 17th, 6pm."
   ]
  },
  {
   "cell_type": "markdown",
   "metadata": {},
   "source": [
    "## Part 1\n",
    "Implement the midpoint method for a one dimensional differential equation. Use this method to integrate the differential equation \n",
    "$$x'(t) = -2.3\\cdot \\sqrt{x(t)}$$\n",
    "with the initial condition\n",
    "$$x(0) = 13.2$$\n",
    "from $t=0$ to $t=2$. \n",
    "\n",
    "Vary the timestep and explore how the solution changes. Use this to estimate the error and choose a timestep such that the *relative* error is approximately 1% at the end of the integration. Describe how you estimated the error."
   ]
  },
  {
   "cell_type": "markdown",
   "metadata": {},
   "source": [
    "## Part 2\n",
    "Implement the Euler method. Solve the same differential equation using the same timestep you found accetable in Part 1. How much larger is the relative error at the end of the integration?"
   ]
  },
  {
   "cell_type": "markdown",
   "metadata": {},
   "source": [
    "## Part 3 (Bonus points)\n",
    "Modify your implementation of the midpoint method so that it can integrate coupled differential equations.\n",
    "Then integrate \n",
    "$$y'(t) = -4.5 \\cdot x(t)$$\n",
    "$$x'(t) = y(t)$$\n",
    "from $t=0$ to $t=10$ with the initial conditions $x(0)=0$ and $x'(0)=1.$"
   ]
  },
  {
   "cell_type": "code",
   "execution_count": null,
   "metadata": {},
   "outputs": [],
   "source": []
  }
 ],
 "metadata": {
  "kernelspec": {
   "display_name": "Python 3",
   "language": "python",
   "name": "python3"
  },
  "language_info": {
   "codemirror_mode": {
    "name": "ipython",
    "version": 3
   },
   "file_extension": ".py",
   "mimetype": "text/x-python",
   "name": "python",
   "nbconvert_exporter": "python",
   "pygments_lexer": "ipython3",
   "version": "3.5.2"
  }
 },
 "nbformat": 4,
 "nbformat_minor": 2
}
